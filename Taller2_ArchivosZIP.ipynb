{
 "cells": [
  {
   "cell_type": "markdown",
   "metadata": {},
   "source": [
    "<img src='https://encrypted-tbn0.gstatic.com/images?q=tbn%3AANd9GcQ-VfNtOyJbsaxu43Kztf_cv1mgBG6ZIQZEVw&usqp=CAU'>\n",
    "\n",
    "# Procesamiento de Lenguage Natural\n",
    "\n",
    "## Taller #2: Adquisición de textos\n",
    "`Fecha de entrega: Marzo 4, 2021. (Antes del inicio de la próxima clase).`"
   ]
  },
  {
   "cell_type": "markdown",
   "metadata": {},
   "source": [
    "# Punto 1:\n",
    "\n",
    "- `[18 pts]` Descomprimir el archivo `.zip` de `python_books`\n",
    "- `[22 pts]` Leer cada uno de sus archivos\n",
    "- `[10 pts]` Responder: ¿Cuál archivo tiene el mayor número de palabras?"
   ]
  },
  {
   "cell_type": "code",
   "execution_count": 39,
   "metadata": {},
   "outputs": [],
   "source": [
    "import os\n",
    "from zipfile import ZipFile\n",
    "import fitz"
   ]
  },
  {
   "cell_type": "code",
   "execution_count": 40,
   "metadata": {},
   "outputs": [],
   "source": [
    "ruta = 'C:/Users/TRABAJO/Documents/Maestria Analistica Estrategica de Datos/II semestre/NLP/python_books.zip'"
   ]
  },
  {
   "cell_type": "code",
   "execution_count": 5,
   "metadata": {},
   "outputs": [],
   "source": [
    "#descomprimir\n",
    "with ZipFile(ruta) as archivo:\n",
    "    archivo.extractall('C:/Users/TRABAJO/Documents/Maestria Analistica Estrategica de Datos/II semestre/NLP/python_books')\n",
    "#Eliminar carpeta nueva\n",
    "import shutil\n",
    "shutil.rmtree('C:/Users/TRABAJO/Documents/Maestria Analistica Estrategica de Datos/II semestre/NLP/python_books/__MACOSX')"
   ]
  },
  {
   "cell_type": "code",
   "execution_count": 6,
   "metadata": {},
   "outputs": [
    {
     "name": "stdout",
     "output_type": "stream",
     "text": [
      "('C:/Users/TRABAJO/Documents/Maestria Analistica Estrategica de Datos/II semestre/NLP/python_books', ['python_books'], [])\n",
      "('C:/Users/TRABAJO/Documents/Maestria Analistica Estrategica de Datos/II semestre/NLP/python_books\\\\python_books', [], ['Python  Data Science Cookbook.pdf', 'Python - AWS.pdf', 'Python - Finance.pdf'])\n"
     ]
    }
   ],
   "source": [
    "#para ver los archivos\n",
    "for archivo in os.walk('C:/Users/TRABAJO/Documents/Maestria Analistica Estrategica de Datos/II semestre/NLP/python_books'):\n",
    "    print(archivo)"
   ]
  },
  {
   "cell_type": "code",
   "execution_count": 41,
   "metadata": {},
   "outputs": [
    {
     "name": "stdout",
     "output_type": "stream",
     "text": [
      "Python  Data Science Cookbook.pdf\n",
      "Python - AWS.pdf\n",
      "Python - Finance.pdf\n"
     ]
    }
   ],
   "source": [
    "for raiz, dirs, archivos in os.walk('C:/Users/TRABAJO/Documents/Maestria Analistica Estrategica de Datos/II semestre/NLP/python_books'):\n",
    "    # print(raiz, dirs, archivos)\n",
    "    for a in archivos: \n",
    "        print(a)"
   ]
  },
  {
   "cell_type": "code",
   "execution_count": 10,
   "metadata": {},
   "outputs": [],
   "source": [
    "pdf_data = fitz.open(\"C:/Users/TRABAJO/Documents/Maestria Analistica Estrategica de Datos/II semestre/NLP/python_books/python_books/Python  Data Science Cookbook.pdf\")\n",
    "pdf_aws = fitz.open(\"C:/Users/TRABAJO/Documents/Maestria Analistica Estrategica de Datos/II semestre/NLP/python_books/python_books/Python - AWS.pdf\")\n",
    "pdf_finance = fitz.open(\"C:/Users/TRABAJO/Documents/Maestria Analistica Estrategica de Datos/II semestre/NLP/python_books/python_books/Python - Finance.pdf\")"
   ]
  },
  {
   "cell_type": "code",
   "execution_count": 80,
   "metadata": {},
   "outputs": [
    {
     "data": {
      "text/plain": [
       "535"
      ]
     },
     "execution_count": 80,
     "metadata": {},
     "output_type": "execute_result"
    }
   ],
   "source": [
    "pagina_data = pdf_data.loadPage(0)\n",
    "text_data = pagina_data.getText(\"text\")\n",
    "lista_data = text_data.split()\n",
    "len(lista_data)"
   ]
  },
  {
   "cell_type": "code",
   "execution_count": 81,
   "metadata": {},
   "outputs": [
    {
     "data": {
      "text/plain": [
       "254"
      ]
     },
     "execution_count": 81,
     "metadata": {},
     "output_type": "execute_result"
    }
   ],
   "source": [
    "pagina_aws = pdf_aws.loadPage(0)\n",
    "text_aws = pagina_aws.getText(\"text\")\n",
    "lista_aws = text_aws.split()\n",
    "len(lista_aws)"
   ]
  },
  {
   "cell_type": "code",
   "execution_count": 82,
   "metadata": {},
   "outputs": [
    {
     "data": {
      "text/plain": [
       "226"
      ]
     },
     "execution_count": 82,
     "metadata": {},
     "output_type": "execute_result"
    }
   ],
   "source": [
    "pagina_finance = pdf_finance.loadPage(0)\n",
    "text_finance = pagina_finance.getText(\"text\")\n",
    "lista_finance = text_finance.split()\n",
    "len(lista_finance)"
   ]
  },
  {
   "cell_type": "code",
   "execution_count": 116,
   "metadata": {},
   "outputs": [
    {
     "name": "stdout",
     "output_type": "stream",
     "text": [
      "la mayor cantidad de palabras es 535 y pertence al PDF data\n"
     ]
    }
   ],
   "source": [
    "data = len(lista_data)\n",
    "aws = len(lista_aws)\n",
    "finance = len(lista_finance)\n",
    "x = max(data , aws, finance)\n",
    "\n",
    "print(\"La mayor cantidad de palabras es {} y pertence al PDF {}\".format(*((data, \"data\") if data == max(data, aws, finance)\n",
    "                                                                             else (aws, \"aws\") if aws == max(data, aws, finance)\n",
    "                                                                             else (finance, \"finance\"))))"
   ]
  },
  {
   "cell_type": "code",
   "execution_count": 96,
   "metadata": {},
   "outputs": [],
   "source": [
    "def pdf(x):\n",
    "    x=fitz.open(\"C:/Users/TRABAJO/Documents/Maestria Analistica Estrategica de Datos/II semestre/NLP/python_books/python_books/\"+ x +\".pdf\")\n",
    "    y = x.loadPage(0)\n",
    "    z = y.getText(\"text\")\n",
    "    a = z.split()\n",
    "    return len(a)"
   ]
  },
  {
   "cell_type": "code",
   "execution_count": 98,
   "metadata": {},
   "outputs": [
    {
     "data": {
      "text/plain": [
       "226"
      ]
     },
     "execution_count": 98,
     "metadata": {},
     "output_type": "execute_result"
    }
   ],
   "source": [
    "pdf('Python - Finance')"
   ]
  },
  {
   "cell_type": "markdown",
   "metadata": {},
   "source": [
    "### NO funciono"
   ]
  },
  {
   "cell_type": "code",
   "execution_count": 29,
   "metadata": {},
   "outputs": [
    {
     "name": "stdout",
     "output_type": "stream",
     "text": [
      "Collecting pypdf2\n",
      "  Downloading PyPDF2-1.26.0.tar.gz (77 kB)\n",
      "Building wheels for collected packages: pypdf2\n",
      "  Building wheel for pypdf2 (setup.py): started\n",
      "  Building wheel for pypdf2 (setup.py): finished with status 'done'\n",
      "  Created wheel for pypdf2: filename=PyPDF2-1.26.0-py3-none-any.whl size=61087 sha256=9e583681d30f95907e9b6878446c333390cdce91b54774d10f42d5169ed58866\n",
      "  Stored in directory: c:\\users\\trabajo\\appdata\\local\\pip\\cache\\wheels\\b1\\1a\\8f\\a4c34be976825a2f7948d0fa40907598d69834f8ab5889de11\n",
      "Successfully built pypdf2\n",
      "Installing collected packages: pypdf2\n",
      "Successfully installed pypdf2-1.26.0\n"
     ]
    }
   ],
   "source": [
    "!pip install pypdf2 "
   ]
  },
  {
   "cell_type": "code",
   "execution_count": 44,
   "metadata": {},
   "outputs": [],
   "source": [
    "import PyPDF2\n"
   ]
  },
  {
   "cell_type": "code",
   "execution_count": 52,
   "metadata": {},
   "outputs": [],
   "source": [
    "p_data = open(\"C:/Users/TRABAJO/Documents/Maestria Analistica Estrategica de Datos/II semestre/NLP/python_books/python_books/Python  Data Science Cookbook.pdf\", 'rb')"
   ]
  },
  {
   "cell_type": "code",
   "execution_count": 53,
   "metadata": {},
   "outputs": [],
   "source": [
    "read_data = PyPDF2.PdfFileReader(p_data)"
   ]
  },
  {
   "cell_type": "code",
   "execution_count": 56,
   "metadata": {},
   "outputs": [
    {
     "data": {
      "text/plain": [
       "1"
      ]
     },
     "execution_count": 56,
     "metadata": {},
     "output_type": "execute_result"
    }
   ],
   "source": [
    "number_of_pages = read_data.getNumPages()\n",
    "number_of_pages"
   ]
  },
  {
   "cell_type": "code",
   "execution_count": 59,
   "metadata": {},
   "outputs": [
    {
     "data": {
      "text/plain": [
       "{'/Type': '/Page',\n",
       " '/Parent': {'/Type': '/Pages',\n",
       "  '/MediaBox': [0, 0, 612, 792],\n",
       "  '/Count': 1,\n",
       "  '/Kids': [IndirectObject(3, 0)]},\n",
       " '/Resources': {'/ProcSet': ['/PDF', '/Text'],\n",
       "  '/ColorSpace': {'/Cs1': ['/ICCBased', IndirectObject(10, 0)]},\n",
       "  '/Font': {'/G1': {'/Type': '/Font',\n",
       "    '/Subtype': '/Type0',\n",
       "    '/Encoding': '/Identity-H',\n",
       "    '/DescendantFonts': [IndirectObject(1296, 0)],\n",
       "    '/BaseFont': '/AAAAAB+font0000000025e85cae',\n",
       "    '/ToUnicode': {'/Filter': '/FlateDecode'}},\n",
       "   '/G2': {'/Type': '/Font',\n",
       "    '/Subtype': '/Type0',\n",
       "    '/Encoding': '/Identity-H',\n",
       "    '/DescendantFonts': [IndirectObject(1301, 0)],\n",
       "    '/BaseFont': '/AAAAAC+font0000000025e85cb0',\n",
       "    '/ToUnicode': {'/Filter': '/FlateDecode'}}}},\n",
       " '/Contents': {'/Filter': '/FlateDecode'},\n",
       " '/MediaBox': [0, 0, 595.2756, 841.8898],\n",
       " '/Rotate': 0}"
      ]
     },
     "execution_count": 59,
     "metadata": {},
     "output_type": "execute_result"
    }
   ],
   "source": [
    "page = read_data.getPage(0)\n",
    "page"
   ]
  },
  {
   "cell_type": "code",
   "execution_count": 62,
   "metadata": {},
   "outputs": [
    {
     "data": {
      "text/plain": [
       "''"
      ]
     },
     "execution_count": 62,
     "metadata": {},
     "output_type": "execute_result"
    }
   ],
   "source": [
    "page_content = page.extractText()\n",
    "page_content"
   ]
  },
  {
   "cell_type": "code",
   "execution_count": null,
   "metadata": {},
   "outputs": [],
   "source": []
  }
 ],
 "metadata": {
  "kernelspec": {
   "display_name": "Python 3",
   "language": "python",
   "name": "python3"
  },
  "language_info": {
   "codemirror_mode": {
    "name": "ipython",
    "version": 3
   },
   "file_extension": ".py",
   "mimetype": "text/x-python",
   "name": "python",
   "nbconvert_exporter": "python",
   "pygments_lexer": "ipython3",
   "version": "3.8.5"
  }
 },
 "nbformat": 4,
 "nbformat_minor": 2
}
